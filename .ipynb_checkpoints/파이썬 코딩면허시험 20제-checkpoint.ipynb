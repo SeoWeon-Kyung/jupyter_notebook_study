{
 "cells": [
  {
   "cell_type": "code",
   "execution_count": 1,
   "metadata": {},
   "outputs": [
    {
     "name": "stdout",
     "output_type": "stream",
     "text": [
      "a#b#c#d\n"
     ]
    }
   ],
   "source": [
    "# Q1\n",
    "a = 'a:b:c:d'\n",
    "b = \"#\".join(a.split(':'))\n",
    "print(b)"
   ]
  },
  {
   "cell_type": "code",
   "execution_count": 5,
   "metadata": {},
   "outputs": [
    {
     "name": "stdout",
     "output_type": "stream",
     "text": [
      "70\n"
     ]
    }
   ],
   "source": [
    "# Q2\n",
    "a = {'A': 90, 'B': 80}\n",
    "try:\n",
    "    print(a['C'])\n",
    "except KeyError:\n",
    "    print(70)"
   ]
  },
  {
   "cell_type": "code",
   "execution_count": 9,
   "metadata": {},
   "outputs": [
    {
     "name": "stdout",
     "output_type": "stream",
     "text": [
      "b :  [1, 2, 3, 4, 5]\n",
      "a :  [1, 2, 3, 4, 5]\n"
     ]
    }
   ],
   "source": [
    "# Q3\n",
    "a = [1, 2, 3]\n",
    "b = a + [4, 5]\n",
    "a.extend([4, 5])\n",
    "print('b : ', b)\n",
    "print('a : ', a)\n",
    "# extend는 이 함수를 호출해야 하므로 다수의 연산 시 소요시간 차이가 발생할 것이라 예상됨"
   ]
  },
  {
   "cell_type": "code",
   "execution_count": 3,
   "metadata": {},
   "outputs": [
    {
     "data": {
      "text/plain": [
       "481"
      ]
     },
     "execution_count": 3,
     "metadata": {},
     "output_type": "execute_result"
    }
   ],
   "source": [
    "# Q4\n",
    "A = [20, 55, 67, 82, 45, 33, 90, 87, 100, 25]\n",
    "temp = [i for i in A if i>=50]\n",
    "sum(temp)"
   ]
  },
  {
   "cell_type": "code",
   "execution_count": 11,
   "metadata": {},
   "outputs": [
    {
     "name": "stdout",
     "output_type": "stream",
     "text": [
      "정수 입력을 받습니다: 159\n",
      "0\n",
      "1\n",
      "1\n",
      "2\n",
      "3\n",
      "5\n",
      "8\n",
      "13\n",
      "21\n",
      "34\n",
      "55\n",
      "89\n",
      "144\n"
     ]
    }
   ],
   "source": [
    "# Q5\n",
    "n = int(input(\"정수 입력을 받습니다: \"))\n",
    "n1 = 0\n",
    "n2 = 1\n",
    "n3 = 0\n",
    "print(n1)\n",
    "while n3 <= n:\n",
    "    n3 = n1 + n2\n",
    "    print(n2)\n",
    "    n1 = n2\n",
    "    n2 = n3\n"
   ]
  },
  {
   "cell_type": "code",
   "execution_count": 12,
   "metadata": {},
   "outputs": [
    {
     "name": "stdout",
     "output_type": "stream",
     "text": [
      "정수를 입력하십시오: 159\n",
      "[0, 1, 1, 2, 3, 5, 8, 13, 21, 34, 55, 89, 144]\n"
     ]
    }
   ],
   "source": [
    "# Q5 -2\n",
    "n = int(input(\"정수를 입력하십시오: \"))\n",
    "numli = [0, 1]\n",
    "while numli[-1] <= n:\n",
    "    temp = numli[-1] + numli[-2]\n",
    "    numli.append(temp)\n",
    "\n",
    "print(numli[:-1])\n",
    "    \n"
   ]
  },
  {
   "cell_type": "code",
   "execution_count": 16,
   "metadata": {},
   "outputs": [
    {
     "name": "stdout",
     "output_type": "stream",
     "text": [
      "정수를 입력하시오: 65,45,2,3,45,18\n",
      "입력 총합: 178\n"
     ]
    }
   ],
   "source": [
    "# Q6\n",
    "nums = list(map(int,input(\"정수를 입력하시오: \").split(',')))\n",
    "print(\"입력 총합:\", sum(nums))"
   ]
  },
  {
   "cell_type": "code",
   "execution_count": 23,
   "metadata": {},
   "outputs": [
    {
     "name": "stdout",
     "output_type": "stream",
     "text": [
      "구구단을 출력할 숫자를 입력하세요(2~9): 2\n",
      "2 4 6 8 10 12 14 16 18 "
     ]
    }
   ],
   "source": [
    "# Q7\n",
    "gu = int(input(\"구구단을 출력할 숫자를 입력하세요(2~9): \"))\n",
    "li = [gu*i for i in range(1, 10)]\n",
    "for i in li: print(i, end=\" \")\n"
   ]
  },
  {
   "cell_type": "code",
   "execution_count": 44,
   "metadata": {},
   "outputs": [],
   "source": [
    "# Q8\n",
    "with open(\"abc.txt\", 'r+') as f:\n",
    "    li = [word.strip() for word in f]\n",
    "    li.reverse()\n",
    "    outdata = '\\n'.join(li)\n",
    "\n",
    "with open(\"abc.txt\", 'w') as f:\n",
    "    f.write(outdata)"
   ]
  },
  {
   "cell_type": "code",
   "execution_count": 52,
   "metadata": {},
   "outputs": [],
   "source": [
    "# Q9\n",
    "with open(\"sample.txt\", 'r') as f:\n",
    "    data = [int(num) for num in f]\n",
    "    allsum = sum(data)\n",
    "    ave = allsum/len(data)\n",
    "\n",
    "with open(\"result.txt\", 'w', encoding='UTF-8') as f:\n",
    "    f.write(\"총합 : {}\\n\".format(allsum))\n",
    "    f.write(\"평균 : {}\\n\".format(ave))"
   ]
  },
  {
   "cell_type": "code",
   "execution_count": 54,
   "metadata": {},
   "outputs": [
    {
     "name": "stdout",
     "output_type": "stream",
     "text": [
      "15\n",
      "3.0\n"
     ]
    }
   ],
   "source": [
    "# Q10\n",
    "class Calculator:\n",
    "    def __init__(self, numlist):\n",
    "        self.data = numlist\n",
    "    \n",
    "    def sum(self):\n",
    "        print(sum(self.data))\n",
    "    \n",
    "    def avg(self):\n",
    "        print(sum(self.data)/len(self.data))\n",
    "    \n",
    "call = Calculator([1, 2, 3, 4, 5])\n",
    "call.sum()\n",
    "call.avg()"
   ]
  },
  {
   "cell_type": "code",
   "execution_count": 55,
   "metadata": {},
   "outputs": [
    {
     "name": "stdout",
     "output_type": "stream",
     "text": [
      "40\n",
      "8.0\n"
     ]
    }
   ],
   "source": [
    "cal2 = Calculator([6, 7, 8, 9, 10])\n",
    "cal2.sum()\n",
    "cal2.avg()"
   ]
  },
  {
   "cell_type": "markdown",
   "metadata": {},
   "source": [
    "# Q11\n",
    "\n",
    "1. 환경변수 추가 \n",
    "   PYTHONPATH=\n",
    "2. "
   ]
  },
  {
   "cell_type": "code",
   "execution_count": 66,
   "metadata": {},
   "outputs": [
    {
     "name": "stdout",
     "output_type": "stream",
     "text": [
      "7\n"
     ]
    }
   ],
   "source": [
    "# Q12\n",
    "# result 예상 : 7  -->  맨 위 indexError 발생 후 바로 finally 문으로 이동.\n",
    "# except 넘어간 후에는 try 문으로 돌아갈 수 없고 (continue 사용 불가)\n",
    "# 단지 현재의 try~except 문 다음 실행 코드로 넘어갈 수 있음\n",
    "result = 0\n",
    "try:\n",
    "    [1, 2, 3][3]\n",
    "    \"a\"+1\n",
    "    4 / 0\n",
    "except TypeError:\n",
    "    result += 1\n",
    "except ZeroDivisionError:\n",
    "    result += 2\n",
    "except IndexError:\n",
    "    result += 3\n",
    "finally:\n",
    "    result += 4\n",
    "\n",
    "print(result)\n",
    "        "
   ]
  },
  {
   "cell_type": "code",
   "execution_count": 165,
   "metadata": {},
   "outputs": [
    {
     "name": "stdout",
     "output_type": "stream",
     "text": [
      "454*67-9-3\n"
     ]
    }
   ],
   "source": [
    "# Q13\n",
    "def DashInsert(numstr):\n",
    "    numlist = [int(i) for i in numstr]   # 입력 받은 문자열을 숫자 리스트로 바꾸기\n",
    "    # 위 숫자 리스트 각 숫자의 홀수, 짝수 여부 표시한 또다른 리스트 만들기\n",
    "    odev = [i%2 for i in numlist]\n",
    "    outdata = str(numlist[0])  # return 할 *과 -삽입된 문자열 객체 할당\n",
    "    \n",
    "    for i in range(1, len(numlist)):\n",
    "        if odev[i-1] != odev[i]:\n",
    "            outdata += str(numlist[i])  # 홀짝연속 아닐 경우 삽입 없이 붙임\n",
    "        else:\n",
    "            if odev[i] == 1:\n",
    "                outdata = outdata + '-' + str(numlist[i])   #홀수 연속\n",
    "            elif odev[i] == 0:\n",
    "                outdata = outdata + '*' + str(numlist[i])   #짝수 연속\n",
    "    \n",
    "    return outdata\n",
    "\n",
    "result = DashInsert('4546793')\n",
    "print(result)        "
   ]
  },
  {
   "cell_type": "code",
   "execution_count": 166,
   "metadata": {},
   "outputs": [
    {
     "name": "stdout",
     "output_type": "stream",
     "text": [
      "454*67-9-3\n"
     ]
    }
   ],
   "source": [
    "# 공간 할당 줄이기 \n",
    "def DashInsert2(numstr):\n",
    "    numlist = [int(i) for i in numstr]   # 입력 받은 문자열을 숫자 리스트로 바꾸기\n",
    "    # 위 숫자 리스트 각 숫자의 홀수, 짝수 여부 표시한 또다른 리스트 만들기\n",
    "    outdata = ''  # return 할 *과 -삽입된 문자열 객체 할당\n",
    "    pre_s = -1\n",
    "    for n in numlist:\n",
    "        if pre_s != n % 2:\n",
    "            outdata += str(n)  # 홀짝연속 아닐 경우 삽입 없이 붙임\n",
    "            pre_s = n % 2\n",
    "        else:\n",
    "            if pre_s == 1:\n",
    "                outdata = outdata + '-' + str(n)   #홀수 연속\n",
    "            elif pre_s == 0:\n",
    "                outdata = outdata + '*' + str(n)   #짝수 연속\n",
    "    return outdata\n",
    "\n",
    "result = DashInsert2('4546793')\n",
    "print(result)"
   ]
  },
  {
   "cell_type": "code",
   "execution_count": 163,
   "metadata": {},
   "outputs": [
    {
     "name": "stdout",
     "output_type": "stream",
     "text": [
      "문자열 입력 : aaaaabbcccddddddd\n",
      "a5b2c3d7\n"
     ]
    }
   ],
   "source": [
    "# Q14\n",
    "def shorter(string):\n",
    "    result = ''\n",
    "    start_idx = 0\n",
    "    end_idx = 0\n",
    "\n",
    "    for i in range(1, len(string)):\n",
    "        if string[i-1] != string[i]:\n",
    "            end_idx = i-1\n",
    "            result = result + string[i-1] + str(end_idx + 1 - start_idx)\n",
    "            start_idx = i\n",
    "\n",
    "    return result + instr[-1] + str(len(instr) - start_idx)\n",
    "\n",
    "# main\n",
    "instr = input(\"문자열 입력 : \")\n",
    "result = shorter(instr)\n",
    "print(result) "
   ]
  },
  {
   "cell_type": "code",
   "execution_count": 164,
   "metadata": {},
   "outputs": [
    {
     "name": "stdout",
     "output_type": "stream",
     "text": [
      "문자열 입력 : aaabbbbbbbccxx\n",
      "a3b7c2x2\n"
     ]
    }
   ],
   "source": [
    "# 공간 절약해보기\n",
    "def shorter(string):\n",
    "    result = ''\n",
    "    count = 0\n",
    "    pre_ch = ''\n",
    "\n",
    "    for ch in string:\n",
    "        if ch != pre_ch:\n",
    "            pre_ch = ch\n",
    "            if count: result += str(count)\n",
    "            result += ch\n",
    "            count = 1\n",
    "        else: count += 1\n",
    "    if count: result += str(count)\n",
    "    return result\n",
    "\n",
    "# main\n",
    "instr = input(\"문자열 입력 : \")\n",
    "result = shorter(instr)\n",
    "print(result)"
   ]
  },
  {
   "cell_type": "code",
   "execution_count": 161,
   "metadata": {},
   "outputs": [
    {
     "name": "stdout",
     "output_type": "stream",
     "text": [
      "숫자뭉치들을 공백으로 구분하여 입력하시오: 0123456789\n",
      "[[0, 1, 2, 3, 4, 5, 6, 7, 8, 9]]\n",
      "True "
     ]
    }
   ],
   "source": [
    "# Q15\n",
    "def data_modify(data_list):\n",
    "    data = []\n",
    "    for mass in data_list: \n",
    "        data.append([int(char) for char in mass])\n",
    "    return data\n",
    "\n",
    "def guess_tf(data_int):\n",
    "    for i in range(10):\n",
    "        if data_int.count(i) != 1:\n",
    "            return False\n",
    "    return True\n",
    "\n",
    "# main\n",
    "innum = input(\"숫자뭉치들을 공백으로 구분하여 입력하시오: \")\n",
    "innum = innum.split(\" \")\n",
    "data = data_modify(innum)\n",
    "print(data)\n",
    "result = [guess_tf(num) for num in data]\n",
    "for i in result: print(i, end=' ')\n",
    "        "
   ]
  },
  {
   "cell_type": "code",
   "execution_count": 156,
   "metadata": {},
   "outputs": [
    {
     "name": "stdout",
     "output_type": "stream",
     "text": [
      "'HE SLEEPS EARLY'\n"
     ]
    },
    {
     "data": {
      "text/plain": [
       "\"\\nindata = '.... .  ... .-.. . . .--. ...  . .- .-. .-.. -.--'\\nsentence = indata.split('  ')\\nparsing = [word.split(' ') for word in sentence]\\nsentence = ''\\nfor word in parsing:\\n    for char in word:\\n        if char in reference:\\n            sentence += reference[char]\\n        else: print('Wrong expression')\\n    sentence += ' '\\n\\nsentence = sentence.strip()\\nprint(sentence)\\n\""
      ]
     },
     "execution_count": 156,
     "metadata": {},
     "output_type": "execute_result"
    }
   ],
   "source": [
    "# Q16\n",
    "reference = {'.-':'A', '-...':'B', '-.-.':'C', '-..':'D', '.':'E', '..-.':'F', '--.':'G',\n",
    "            '....':'H', '..':'I', '.---':'J', '-.-':'K', '.-..':'L', '--':'M', '-.':'N',\n",
    "            '---':'O', '.--.':'P', '--.-':'Q', '.-.':'R', '...':'S', '-':'T', '..-':'U',\n",
    "            '...-':'V', '.--':'W', '-..-':'X', '-.--':'Y', '--..':'Z'}\n",
    "\n",
    "def mor_change(string):\n",
    "    result = ''\n",
    "    for word in string.split('  '):\n",
    "        for char in word.split(' '):\n",
    "            if char in reference:\n",
    "                result += reference[char]\n",
    "            else: print(\"There is no such Expression\")\n",
    "        result += ' '\n",
    "    return result.strip()\n",
    "\n",
    "# main\n",
    "indata = '.... .  ... .-.. . . .--. ...  . .- .-. .-.. -.--'\n",
    "result = mor_change(indata)\n",
    "print(result)\n",
    "                \n",
    "'''내가 처음 한 것\n",
    "indata = '.... .  ... .-.. . . .--. ...  . .- .-. .-.. -.--'\n",
    "sentence = indata.split('  ')\n",
    "parsing = [word.split(' ') for word in sentence]\n",
    "sentence = ''\n",
    "for word in parsing:\n",
    "    for char in word:\n",
    "        if char in reference:\n",
    "            sentence += reference[char]\n",
    "        else: print('Wrong expression')\n",
    "    sentence += ' '\n",
    "\n",
    "sentence = sentence.strip()\n",
    "print(sentence)\n",
    "'''"
   ]
  },
  {
   "cell_type": "code",
   "execution_count": 107,
   "metadata": {},
   "outputs": [
    {
     "name": "stdout",
     "output_type": "stream",
     "text": [
      "acccb : None\n",
      "a.....b : match\n",
      "aaab : None\n",
      "a.cccb : None\n"
     ]
    }
   ],
   "source": [
    "# Q17\n",
    "# 예측 - 1X : .이 모든문자 아닌 온점  2O : 점 세개이상 반복  3X : 점 없음  4X : 점 3개미만 반복\n",
    "import re\n",
    "regular = re.compile(r'a[.]{3,}b')\n",
    "\n",
    "for i in ['acccb', 'a.....b', 'aaab', 'a.cccb']:\n",
    "    about = regular.match(i)\n",
    "    \n",
    "    if about: print(i, ': match')\n",
    "    else: print(i, ':', about)"
   ]
  },
  {
   "cell_type": "code",
   "execution_count": 109,
   "metadata": {},
   "outputs": [
    {
     "name": "stdout",
     "output_type": "stream",
     "text": [
      "10\n"
     ]
    },
    {
     "data": {
      "text/plain": [
       "'\\nstart = 2,  end = 8 (7 + 1)\\n--> 10\\n'"
      ]
     },
     "execution_count": 109,
     "metadata": {},
     "output_type": "execute_result"
    }
   ],
   "source": [
    "# Q18\n",
    "import re\n",
    "p = re.compile(\"[a-z]+\")\n",
    "m = p.search(\"5 python\")\n",
    "print(m.start() + m.end())\n",
    "\n",
    "# 결과 예측   \n",
    "\"\"\"\n",
    "start = 2,  end = 8 (7 + 1)\n",
    "--> 10\n",
    "\"\"\""
   ]
  },
  {
   "cell_type": "code",
   "execution_count": 138,
   "metadata": {},
   "outputs": [
    {
     "name": "stdout",
     "output_type": "stream",
     "text": [
      "\n",
      "park 010-9999-####\n",
      "kim 010-9909-####\n",
      "lee 010-8789-####\n",
      "\n"
     ]
    }
   ],
   "source": [
    "# Q19\n",
    "# 정규식 이용한 그루핑\n",
    "data = \"\"\"\n",
    "park 010-9999-9988\n",
    "kim 010-9909-7789\n",
    "lee 010-8789-7768\n",
    "\"\"\"\n",
    "p = re.compile(r\"\\w+\\s+\\d+[-]\\d+[-](\\d{4})\")\n",
    "m = p.finditer(data)\n",
    "for r in m: \n",
    "    data = data.replace(r.group(1), '####')\n",
    "\n",
    "# 그러나 이 경우 전화번호 앞자리와 뒷자리가 같을 경우 앞자리도 샵으로 바뀌게 된다. \n",
    "    \n",
    "print(data)"
   ]
  },
  {
   "cell_type": "code",
   "execution_count": 149,
   "metadata": {},
   "outputs": [
    {
     "name": "stdout",
     "output_type": "stream",
     "text": [
      "\n",
      "park 010-9999-####\n",
      "kim 010-9909-####\n",
      "lee 010-8789-####\n",
      "\n"
     ]
    }
   ],
   "source": [
    "# 더 좋은 방법\n",
    "\n",
    "data = \"\"\"\n",
    "park 010-9999-9988\n",
    "kim 010-9909-7789\n",
    "lee 010-8789-7768\n",
    "\"\"\"\n",
    "p = re.compile(r\"(\\w+\\s+\\d+[-]\\d+[-])(\\d{4})\")\n",
    "result = p.sub('\\g<1>####', data)\n",
    "print(result)\n"
   ]
  },
  {
   "cell_type": "code",
   "execution_count": 154,
   "metadata": {},
   "outputs": [
    {
     "name": "stdout",
     "output_type": "stream",
     "text": [
      "<re.Match object; span=(0, 14), match='park@naver.com'>\n"
     ]
    }
   ],
   "source": [
    "# Q20\n",
    "p = re.compile(r\".*[@].*[.](?=com$|net$).*$\")\n",
    "m = p.match('park@naver.com')\n",
    "print(m)\n",
    "    "
   ]
  }
 ],
 "metadata": {
  "kernelspec": {
   "display_name": "Python 3",
   "language": "python",
   "name": "python3"
  },
  "language_info": {
   "codemirror_mode": {
    "name": "ipython",
    "version": 3
   },
   "file_extension": ".py",
   "mimetype": "text/x-python",
   "name": "python",
   "nbconvert_exporter": "python",
   "pygments_lexer": "ipython3",
   "version": "3.8.5"
  }
 },
 "nbformat": 4,
 "nbformat_minor": 4
}
