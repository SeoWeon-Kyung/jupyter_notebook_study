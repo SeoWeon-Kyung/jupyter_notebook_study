{
 "cells": [
  {
   "cell_type": "markdown",
   "metadata": {},
   "source": [
    "# SW Agent Python 교육 3차 과제\n",
    "## 3. 제어문\n",
    "### 3-1 if 문"
   ]
  },
  {
   "cell_type": "code",
   "execution_count": 1,
   "metadata": {},
   "outputs": [
    {
     "name": "stdout",
     "output_type": "stream",
     "text": [
      "Take a bus\n"
     ]
    }
   ],
   "source": [
    "pocket = ['card', 'money', 'coin', 'phone']\n",
    "if 'card' in pocket:\n",
    "    print(\"Take a bus\")\n",
    "else:\n",
    "    print(\"Go walking\")"
   ]
  },
  {
   "cell_type": "code",
   "execution_count": 2,
   "metadata": {},
   "outputs": [],
   "source": [
    "# if문에서 아무것도 안하게 하기\n",
    "if 'money' in pocket:\n",
    "    pass\n",
    "else:\n",
    "    print(\"Going back to home is hard\")"
   ]
  },
  {
   "cell_type": "markdown",
   "metadata": {},
   "source": [
    "### 3-2 while 문"
   ]
  },
  {
   "cell_type": "code",
   "execution_count": 3,
   "metadata": {},
   "outputs": [
    {
     "name": "stdout",
     "output_type": "stream",
     "text": [
      "\n",
      "1. Add\n",
      "2. Del\n",
      "3. List\n",
      "4. Quit\n",
      "\n",
      "Enter number : \n",
      "1\n",
      "\n",
      "1. Add\n",
      "2. Del\n",
      "3. List\n",
      "4. Quit\n",
      "\n",
      "Enter number : \n",
      "3\n",
      "\n",
      "1. Add\n",
      "2. Del\n",
      "3. List\n",
      "4. Quit\n",
      "\n",
      "Enter number : \n",
      "4\n"
     ]
    }
   ],
   "source": [
    "prompt = \"\"\"\n",
    "1. Add\n",
    "2. Del\n",
    "3. List\n",
    "4. Quit\n",
    "\n",
    "Enter number : \"\"\"\n",
    "\n",
    "number = 0\n",
    "while number !=4:\n",
    "    print(prompt)\n",
    "    number = int(input())"
   ]
  },
  {
   "cell_type": "code",
   "execution_count": 4,
   "metadata": {},
   "outputs": [
    {
     "name": "stdout",
     "output_type": "stream",
     "text": [
      "I got money, and here is your coffee.\n",
      "We have 9 cups of coffee left.\n",
      "I got money, and here is your coffee.\n",
      "We have 8 cups of coffee left.\n",
      "I got money, and here is your coffee.\n",
      "We have 7 cups of coffee left.\n",
      "I got money, and here is your coffee.\n",
      "We have 6 cups of coffee left.\n",
      "I got money, and here is your coffee.\n",
      "We have 5 cups of coffee left.\n",
      "I got money, and here is your coffee.\n",
      "We have 4 cups of coffee left.\n",
      "I got money, and here is your coffee.\n",
      "We have 3 cups of coffee left.\n",
      "I got money, and here is your coffee.\n",
      "We have 2 cups of coffee left.\n",
      "I got money, and here is your coffee.\n",
      "We have 1 cups of coffee left.\n",
      "I got money, and here is your coffee.\n",
      "We have 0 cups of coffee left.\n",
      "The coffee ran out. Sorry\n"
     ]
    }
   ],
   "source": [
    "coffee = 10\n",
    "money = 300\n",
    "while money:\n",
    "    print(\"I got money, and here is your coffee.\")\n",
    "    coffee -= 1\n",
    "    print(\"We have %d cups of coffee left.\" % coffee)\n",
    "    if coffee == 0:\n",
    "        print(\"The coffee ran out. Sorry\")\n",
    "        break"
   ]
  },
  {
   "cell_type": "markdown",
   "metadata": {},
   "source": [
    "### 3-3 for 문"
   ]
  },
  {
   "cell_type": "code",
   "execution_count": 5,
   "metadata": {},
   "outputs": [
    {
     "name": "stdout",
     "output_type": "stream",
     "text": [
      "3\n",
      "7\n",
      "11\n"
     ]
    }
   ],
   "source": [
    "a = [(1,2), (3, 4), (5, 6)]\n",
    "for (first, last) in a:\n",
    "    print(first + last)"
   ]
  },
  {
   "cell_type": "code",
   "execution_count": 7,
   "metadata": {},
   "outputs": [
    {
     "name": "stdout",
     "output_type": "stream",
     "text": [
      "1번 학생은 합격 입니다.\n",
      "2번 학생은 불합격 입니다.\n",
      "3번 학생은 합격 입니다.\n",
      "4번 학생은 불합격 입니다.\n",
      "5번 학생은 합격 입니다.\n"
     ]
    }
   ],
   "source": [
    "score = [90, 25, 67, 45, 80]\n",
    "porf = \"\"\n",
    "number = 0\n",
    "for i in score:\n",
    "    number += 1\n",
    "    if i>=60:\n",
    "        porf = \"합격\"\n",
    "    else:\n",
    "        porf = \"불합격\"\n",
    "    print(\"%d번 학생은 %s 입니다.\" %(number, porf))\n",
    "        "
   ]
  },
  {
   "cell_type": "code",
   "execution_count": 11,
   "metadata": {},
   "outputs": [
    {
     "name": "stdout",
     "output_type": "stream",
     "text": [
      "1번 학생, 합격을 축하해요!\n",
      "3번 학생, 합격을 축하해요!\n",
      "5번 학생, 합격을 축하해요!\n"
     ]
    }
   ],
   "source": [
    "score = [90, 25, 67, 45, 80]\n",
    "number = 0\n",
    "for i in score:\n",
    "    number += 1\n",
    "    if i<60: continue \n",
    "    print(\"%d번 학생, 합격을 축하해요!\" % number)"
   ]
  },
  {
   "cell_type": "code",
   "execution_count": 12,
   "metadata": {},
   "outputs": [
    {
     "name": "stdout",
     "output_type": "stream",
     "text": [
      "5050\n"
     ]
    }
   ],
   "source": [
    "number = 0\n",
    "for i in range(1, 101):\n",
    "    number += i\n",
    "\n",
    "print(number)"
   ]
  },
  {
   "cell_type": "code",
   "execution_count": 14,
   "metadata": {},
   "outputs": [
    {
     "name": "stdout",
     "output_type": "stream",
     "text": [
      "1 2 3 4 5 6 7 8 9 \n",
      "2 4 6 8 10 12 14 16 18 \n",
      "3 6 9 12 15 18 21 24 27 \n",
      "4 8 12 16 20 24 28 32 36 \n",
      "5 10 15 20 25 30 35 40 45 \n",
      "6 12 18 24 30 36 42 48 54 \n",
      "7 14 21 28 35 42 49 56 63 \n",
      "8 16 24 32 40 48 56 64 72 \n",
      "9 18 27 36 45 54 63 72 81 \n"
     ]
    }
   ],
   "source": [
    "for i in range(1, 10):\n",
    "    for j in range(1, 10):\n",
    "        print(i*j, end=\" \")\n",
    "    print('')"
   ]
  },
  {
   "cell_type": "code",
   "execution_count": 16,
   "metadata": {},
   "outputs": [
    {
     "name": "stdout",
     "output_type": "stream",
     "text": [
      "[6, 12]\n"
     ]
    }
   ],
   "source": [
    "a = [1, 2, 3, 4]\n",
    "result = [num*3 for num in a if num%2 == 0]\n",
    "print(result)"
   ]
  },
  {
   "cell_type": "code",
   "execution_count": 17,
   "metadata": {},
   "outputs": [
    {
     "name": "stdout",
     "output_type": "stream",
     "text": [
      "[1, 2, 3, 4, 5, 6, 7, 8, 9, 2, 4, 6, 8, 10, 12, 14, 16, 18, 3, 6, 9, 12, 15, 18, 21, 24, 27, 4, 8, 12, 16, 20, 24, 28, 32, 36, 5, 10, 15, 20, 25, 30, 35, 40, 45, 6, 12, 18, 24, 30, 36, 42, 48, 54, 7, 14, 21, 28, 35, 42, 49, 56, 63, 8, 16, 24, 32, 40, 48, 56, 64, 72, 9, 18, 27, 36, 45, 54, 63, 72, 81]\n"
     ]
    }
   ],
   "source": [
    "result = [i*j for i in range(1, 10)\n",
    "          for j in range(1, 10)]\n",
    "print(result)"
   ]
  },
  {
   "cell_type": "markdown",
   "metadata": {},
   "source": [
    "# 3장 연습 문제"
   ]
  },
  {
   "cell_type": "code",
   "execution_count": 18,
   "metadata": {},
   "outputs": [
    {
     "name": "stdout",
     "output_type": "stream",
     "text": [
      "shirt\n"
     ]
    }
   ],
   "source": [
    "# Q1\n",
    "a = \"Life is too short, you need python\"\n",
    "\n",
    "if \"wife\" in a: print(\"wife\")\n",
    "elif \"python\" in a and \"you\" not in a: print(\"python\")\n",
    "elif \"shirt\" not in a: print(\"shirt\")\n",
    "elif \"need\" in a: print(\"need\")\n",
    "else: print(\"none\")\n",
    "    \n",
    "# shirt 가 나올 것"
   ]
  },
  {
   "cell_type": "code",
   "execution_count": 19,
   "metadata": {},
   "outputs": [
    {
     "name": "stdout",
     "output_type": "stream",
     "text": [
      "166833\n"
     ]
    }
   ],
   "source": [
    "# Q2\n",
    "number = 1000\n",
    "result = 0\n",
    "while number:\n",
    "    if number%3 == 0: result += number\n",
    "    number -= 1\n",
    "\n",
    "print(result)"
   ]
  },
  {
   "cell_type": "code",
   "execution_count": 20,
   "metadata": {},
   "outputs": [
    {
     "name": "stdout",
     "output_type": "stream",
     "text": [
      "*\n",
      "**\n",
      "***\n",
      "****\n",
      "*****\n"
     ]
    }
   ],
   "source": [
    "# Q3\n",
    "i = 0\n",
    "while True:\n",
    "    i += 1\n",
    "    if i>5: break\n",
    "    print(\"*\"*i)"
   ]
  },
  {
   "cell_type": "code",
   "execution_count": 21,
   "metadata": {},
   "outputs": [
    {
     "name": "stdout",
     "output_type": "stream",
     "text": [
      "1 2 3 4 5 6 7 8 9 10 11 12 13 14 15 16 17 18 19 20 21 22 23 24 25 26 27 28 29 30 31 32 33 34 35 36 37 38 39 40 41 42 43 44 45 46 47 48 49 50 51 52 53 54 55 56 57 58 59 60 61 62 63 64 65 66 67 68 69 70 71 72 73 74 75 76 77 78 79 80 81 82 83 84 85 86 87 88 89 90 91 92 93 94 95 96 97 98 99 100 \n"
     ]
    }
   ],
   "source": [
    "# Q4\n",
    "for i in range(1, 101):\n",
    "    print(i, end=\" \")\n",
    "print('')"
   ]
  },
  {
   "cell_type": "code",
   "execution_count": 22,
   "metadata": {},
   "outputs": [
    {
     "name": "stdout",
     "output_type": "stream",
     "text": [
      "79.0\n"
     ]
    }
   ],
   "source": [
    "# Q5\n",
    "A = [70, 60, 55, 75, 95, 90, 80, 80, 85, 100]\n",
    "total = 0\n",
    "for score in A:\n",
    "    total += score\n",
    "\n",
    "print(total/len(A))"
   ]
  },
  {
   "cell_type": "code",
   "execution_count": 23,
   "metadata": {},
   "outputs": [
    {
     "name": "stdout",
     "output_type": "stream",
     "text": [
      "[2, 6, 10]\n"
     ]
    }
   ],
   "source": [
    "# Q6\n",
    "numbers = [1, 2, 3, 4, 5, 6]\n",
    "result = [num*2 for num in numbers if num%2==1]\n",
    "print(result)"
   ]
  },
  {
   "cell_type": "markdown",
   "metadata": {},
   "source": [
    "## 4. 프로그램 입출력\n",
    "### 4-1 함수"
   ]
  },
  {
   "cell_type": "markdown",
   "metadata": {},
   "source": [
    "### 4-2 사용자 입력과 출력\n",
    "- 입력"
   ]
  },
  {
   "cell_type": "code",
   "execution_count": 1,
   "metadata": {},
   "outputs": [
    {
     "name": "stdout",
     "output_type": "stream",
     "text": [
      "Life is too short, you need python.\n"
     ]
    }
   ],
   "source": [
    "a = input()"
   ]
  },
  {
   "cell_type": "code",
   "execution_count": 2,
   "metadata": {},
   "outputs": [
    {
     "data": {
      "text/plain": [
       "'Life is too short, you need python.'"
      ]
     },
     "execution_count": 2,
     "metadata": {},
     "output_type": "execute_result"
    }
   ],
   "source": [
    "a"
   ]
  },
  {
   "cell_type": "code",
   "execution_count": 3,
   "metadata": {},
   "outputs": [
    {
     "name": "stdout",
     "output_type": "stream",
     "text": [
      "숫자를 입력하세요: 3\n"
     ]
    }
   ],
   "source": [
    "number = input(\"숫자를 입력하세요: \")"
   ]
  },
  {
   "cell_type": "code",
   "execution_count": 4,
   "metadata": {},
   "outputs": [
    {
     "name": "stdout",
     "output_type": "stream",
     "text": [
      "<class 'str'>\n"
     ]
    }
   ],
   "source": [
    "print(type(number))"
   ]
  },
  {
   "cell_type": "markdown",
   "metadata": {},
   "source": [
    "### 연습문제"
   ]
  },
  {
   "cell_type": "code",
   "execution_count": 5,
   "metadata": {},
   "outputs": [],
   "source": [
    "# Q1\n",
    "def is_odd(number):\n",
    "    if number%2 == 1:\n",
    "        return True\n",
    "    else:\n",
    "        return False"
   ]
  },
  {
   "cell_type": "code",
   "execution_count": 9,
   "metadata": {},
   "outputs": [
    {
     "data": {
      "text/plain": [
       "3.5"
      ]
     },
     "execution_count": 9,
     "metadata": {},
     "output_type": "execute_result"
    }
   ],
   "source": [
    "# Q2\n",
    "def avg_numbers(*number):\n",
    "    result = 0\n",
    "    for i in number:\n",
    "        result += i\n",
    "    \n",
    "    return result/len(number)\n",
    "\n",
    "avg_numbers(1, 2, 3, 4, 5, 6)"
   ]
  },
  {
   "cell_type": "code",
   "execution_count": 10,
   "metadata": {},
   "outputs": [
    {
     "name": "stdout",
     "output_type": "stream",
     "text": [
      "첫번째 숫자를 입력하세요: 3\n",
      "두번째 숫자를 입력하세요: 6\n",
      "두 수의 합은 9 입니다.\n"
     ]
    }
   ],
   "source": [
    "# Q3\n",
    "input1 = input(\"첫번째 숫자를 입력하세요: \")\n",
    "input2 = input(\"두번째 숫자를 입력하세요: \")\n",
    "\n",
    "total = int(input1) + int(input2)\n",
    "print(\"두 수의 합은 %d 입니다.\" % total)"
   ]
  },
  {
   "cell_type": "code",
   "execution_count": 12,
   "metadata": {},
   "outputs": [
    {
     "name": "stdout",
     "output_type": "stream",
     "text": [
      "youneedpython\n",
      "you need python\n"
     ]
    }
   ],
   "source": [
    "# Q4   A:3\n",
    "print(\"\".join([\"you\", \"need\", \"python\"]))\n",
    "print(\"you\", \"need\", \"python\")"
   ]
  },
  {
   "cell_type": "code",
   "execution_count": 15,
   "metadata": {},
   "outputs": [
    {
     "name": "stdout",
     "output_type": "stream",
     "text": [
      "Life is too short\n"
     ]
    }
   ],
   "source": [
    "\"\"\" Q5     f1.close()로 앞에 연 f1을 닫아주거나 f1, f2를 f로 통일한다. \n",
    "            --> 통일 시 두 객체가 하나를 동시에 여는게 아니라 한 객체가 하나를 사용 방식만 다르게 열어서 되는 것 같다.\"\"\"\n",
    "\n",
    "f1 = open(\"test.txt\", 'w')\n",
    "f1.write(\"Life is too short\")\n",
    "f1.close()\n",
    "\n",
    "f2 = open(\"test.txt\", 'r')\n",
    "print(f2.read())"
   ]
  },
  {
   "cell_type": "code",
   "execution_count": 17,
   "metadata": {},
   "outputs": [
    {
     "name": "stdout",
     "output_type": "stream",
     "text": [
      "저장할 내용을 입력하세요: This is second line\n"
     ]
    }
   ],
   "source": [
    "# Q6    -->  여기의 텍스트 파일 다운로드가 불가능하여  VS Code에서 정상 동작 확인\n",
    "user_input = input(\"저장할 내용을 입력하세요: \")\n",
    "f = open('test.txt', 'a')\n",
    "f.write(user_input)\n",
    "f.write(\"\\n\")\n",
    "f.close()"
   ]
  },
  {
   "cell_type": "code",
   "execution_count": 18,
   "metadata": {},
   "outputs": [
    {
     "name": "stdout",
     "output_type": "stream",
     "text": [
      "Life is too shortThis is a first line\n",
      "This is second linepythone is too shortThis is a first line\n",
      "This is second line\n",
      "\n"
     ]
    }
   ],
   "source": [
    "# Q7 -->  마찬가지 VS Code에서 확인\n",
    "f = open(\"test.txt\", 'r')\n",
    "body = f.read()\n",
    "f.close()\n",
    "\n",
    "javaroc = body.find(\"java\")\n",
    "result = body[:javaroc] + \"python\" + body[javaroc+4:]  \n",
    "# 정답은 body = body.replace(\"java\", \"python\")\n",
    "\n",
    "f = open(\"test.txt\", 'w')\n",
    "f.write(result)\n",
    "f.close()\n",
    "print(result)\n"
   ]
  }
 ],
 "metadata": {
  "kernelspec": {
   "display_name": "Python 3",
   "language": "python",
   "name": "python3"
  },
  "language_info": {
   "codemirror_mode": {
    "name": "ipython",
    "version": 3
   },
   "file_extension": ".py",
   "mimetype": "text/x-python",
   "name": "python",
   "nbconvert_exporter": "python",
   "pygments_lexer": "ipython3",
   "version": "3.8.5"
  }
 },
 "nbformat": 4,
 "nbformat_minor": 4
}
