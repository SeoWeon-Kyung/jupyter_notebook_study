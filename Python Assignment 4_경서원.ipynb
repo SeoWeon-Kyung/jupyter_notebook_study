{
 "cells": [
  {
   "cell_type": "markdown",
   "metadata": {},
   "source": [
    "# 5장 연습문제"
   ]
  },
  {
   "cell_type": "code",
   "execution_count": 4,
   "metadata": {},
   "outputs": [
    {
     "name": "stdout",
     "output_type": "stream",
     "text": [
      "3\n"
     ]
    }
   ],
   "source": [
    "# Q1.\n",
    "class Calculator:\n",
    "    def __init__(self):\n",
    "        self.value = 0\n",
    "    \n",
    "    def add(self, val):\n",
    "        self.value += val\n",
    "    \n",
    "\n",
    "class UpgradeCalculator(Calculator):\n",
    "    def minus(self, val):\n",
    "        self.value -= val\n",
    "\n",
    "cal = UpgradeCalculator()\n",
    "cal.add(10)\n",
    "cal.minus(7)\n",
    "\n",
    "print(cal.value)"
   ]
  },
  {
   "cell_type": "code",
   "execution_count": 5,
   "metadata": {},
   "outputs": [
    {
     "name": "stdout",
     "output_type": "stream",
     "text": [
      "100\n"
     ]
    }
   ],
   "source": [
    "# Q2.\n",
    "class MaxLimitCalculator(Calculator):\n",
    "    def add(self, val):\n",
    "        self.value += val\n",
    "        if self.value > 100:\n",
    "            self.value = 100\n",
    "\n",
    "cal = MaxLimitCalculator()\n",
    "cal.add(50)\n",
    "cal.add(60)\n",
    "\n",
    "print(cal.value)"
   ]
  },
  {
   "cell_type": "code",
   "execution_count": 7,
   "metadata": {},
   "outputs": [
    {
     "data": {
      "text/plain": [
       "False"
      ]
     },
     "execution_count": 7,
     "metadata": {},
     "output_type": "execute_result"
    }
   ],
   "source": [
    "# Q3.   \n",
    "# all([1, 2, abs(-3)-3])  =  False\n",
    "# chr(ord('a')) == 'a'     = True  (ord 결과 숫자가 다시 ASCII 문자로 바뀌어 a가 될 것)\n",
    "all([1, 2, abs(-3)-3])"
   ]
  },
  {
   "cell_type": "code",
   "execution_count": 8,
   "metadata": {},
   "outputs": [
    {
     "data": {
      "text/plain": [
       "True"
      ]
     },
     "execution_count": 8,
     "metadata": {},
     "output_type": "execute_result"
    }
   ],
   "source": [
    "chr(ord('a')) == 'a'"
   ]
  },
  {
   "cell_type": "code",
   "execution_count": 12,
   "metadata": {},
   "outputs": [
    {
     "name": "stdout",
     "output_type": "stream",
     "text": [
      "[1, 3, 8]\n"
     ]
    }
   ],
   "source": [
    "# Q4.\n",
    "a = filter(lambda x: x>=0, [1, -2, 3, -5, 8, -3])\n",
    "print(list(a))"
   ]
  },
  {
   "cell_type": "code",
   "execution_count": 15,
   "metadata": {},
   "outputs": [
    {
     "name": "stdout",
     "output_type": "stream",
     "text": [
      "234\n"
     ]
    }
   ],
   "source": [
    "# Q5. \n",
    "sixteen = hex(234)\n",
    "ten = int(sixteen, 16)\n",
    "print(ten)"
   ]
  },
  {
   "cell_type": "code",
   "execution_count": 17,
   "metadata": {},
   "outputs": [
    {
     "name": "stdout",
     "output_type": "stream",
     "text": [
      "[3, 6, 9, 12]\n"
     ]
    }
   ],
   "source": [
    "# Q6.\n",
    "result = map(lambda x: x*3, [1, 2, 3, 4])\n",
    "print(list(result))"
   ]
  },
  {
   "cell_type": "code",
   "execution_count": 18,
   "metadata": {},
   "outputs": [
    {
     "name": "stdout",
     "output_type": "stream",
     "text": [
      "-1\n"
     ]
    }
   ],
   "source": [
    "# Q7. \n",
    "data = [-8, 2, 7, 5, -3, 5, 0, 1]\n",
    "max_num = max(data)\n",
    "min_num = min(data)\n",
    "print(max_num + min_num)"
   ]
  },
  {
   "cell_type": "code",
   "execution_count": 19,
   "metadata": {},
   "outputs": [
    {
     "name": "stdout",
     "output_type": "stream",
     "text": [
      "5.6667\n"
     ]
    }
   ],
   "source": [
    "# Q8.\n",
    "result = round(17/3, 4)\n",
    "print(result)"
   ]
  },
  {
   "cell_type": "code",
   "execution_count": 76,
   "metadata": {},
   "outputs": [
    {
     "name": "stdout",
     "output_type": "stream",
     "text": [
      "Prompt에 입력한 것들: ['C:\\\\Users\\\\LGITLocalAdmin\\\\Anaconda3\\\\lib\\\\site-packages\\\\ipykernel_launcher.py', '-f', 'C:\\\\Users\\\\LGITLocalAdmin\\\\AppData\\\\Roaming\\\\jupyter\\\\runtime\\\\kernel-392e96ca-fbd2-4787-9d4a-b23d195690d4.json']\n",
      "0\n"
     ]
    },
    {
     "data": {
      "image/png": "[encoded data removed]",
      "text/plain": [
       "<IPython.core.display.Image object>"
      ]
     },
     "execution_count": 76,
     "metadata": {},
     "output_type": "execute_result"
    }
   ],
   "source": [
    "# Q9.  파일명 : question9.py\n",
    "from IPython.display import Image\n",
    "import sys\n",
    "data = sys.argv\n",
    "print(\"Prompt에 입력한 것들:\", data)\n",
    "\n",
    "result = 0\n",
    "for i in data:\n",
    "    try:\n",
    "        result += int(i)\n",
    "    except (ValueError):\n",
    "        pass\n",
    "\n",
    "print(result)\n",
    "\n",
    "Image(\"C:/Users/LGITLocalAdmin/Desktop/Jupiter_Notebook_File/inserted_photo/hw4_Q9.png\")\n",
    "# 파이썬 경로 입력 시 주의 : \\ 대신 / 써야함. 안그러면 Unicode error 로 'unicodeescape' 가 decode 못한다는 오류 발생"
   ]
  },
  {
   "cell_type": "code",
   "execution_count": 78,
   "metadata": {},
   "outputs": [
    {
     "name": "stdout",
     "output_type": "stream",
     "text": [
      " C 드라이브의 볼륨에는 이름이 없습니다.\n",
      " 볼륨 일련 번호: E646-94BA\n",
      "\n",
      " C:\\Users\\LGITLocalAdmin\\Desktop\\Jupiter_Notebook_File 디렉터리\n",
      "\n",
      "2021-04-06  오후 02:33    <DIR>          .\n",
      "2021-04-06  오후 02:33    <DIR>          ..\n",
      "2021-04-06  오후 02:33    <DIR>          inserted_photo\n",
      "2021-03-29  오후 12:05            33,480 Python Assignment 2_경서원.ipynb\n",
      "2021-03-31  오후 03:41            15,613 Python Assignment 3_경서원.ipynb\n",
      "               2개 파일              49,093 바이트\n",
      "               3개 디렉터리  29,884,346,368 바이트 남음\n",
      "\n"
     ]
    }
   ],
   "source": [
    "# Q10.\n",
    "import os\n",
    "os.chdir(\"C:/Users/LGITLocalAdmin/Desktop/Jupiter_Notebook_File\")\n",
    "f = os.popen(\"dir\")\n",
    "print(f.read())"
   ]
  },
  {
   "cell_type": "code",
   "execution_count": 81,
   "metadata": {},
   "outputs": [
    {
     "name": "stdout",
     "output_type": "stream",
     "text": [
      "C:/Users/LGITLocalAdmin/Desktop/Git_Python_Seminar\\check.py\n",
      "C:/Users/LGITLocalAdmin/Desktop/Git_Python_Seminar\\mod1.py\n",
      "C:/Users/LGITLocalAdmin/Desktop/Git_Python_Seminar\\question9.py\n",
      "C:/Users/LGITLocalAdmin/Desktop/Git_Python_Seminar\\rotate.py\n",
      "C:/Users/LGITLocalAdmin/Desktop/Git_Python_Seminar\\sys1.py\n",
      "C:/Users/LGITLocalAdmin/Desktop/Git_Python_Seminar\\test.py\n"
     ]
    }
   ],
   "source": [
    "# Q11.\n",
    "import glob\n",
    "files = glob.glob(\"C:/Users/LGITLocalAdmin/Desktop/Git_Python_Seminar/*.py\")\n",
    "for i in files: print(i)"
   ]
  },
  {
   "cell_type": "code",
   "execution_count": 31,
   "metadata": {},
   "outputs": [
    {
     "data": {
      "text/plain": [
       "'2021/04/06 13:36:37'"
      ]
     },
     "execution_count": 31,
     "metadata": {},
     "output_type": "execute_result"
    }
   ],
   "source": [
    "# Q12.\n",
    "import time\n",
    "time.strftime('%Y/%m/%d %H:%M:%S')"
   ]
  },
  {
   "cell_type": "code",
   "execution_count": 58,
   "metadata": {},
   "outputs": [
    {
     "name": "stdout",
     "output_type": "stream",
     "text": [
      "[19, 1, 14, 41, 26, 44]\n"
     ]
    }
   ],
   "source": [
    "# Q13.\n",
    "import random\n",
    "\n",
    "result = []\n",
    "for i in range(6): result.append(random.randint(1, 46))\n",
    "\n",
    "print(result)\n"
   ]
  }
 ],
 "metadata": {
  "kernelspec": {
   "display_name": "Python 3",
   "language": "python",
   "name": "python3"
  },
  "language_info": {
   "codemirror_mode": {
    "name": "ipython",
    "version": 3
   },
   "file_extension": ".py",
   "mimetype": "text/x-python",
   "name": "python",
   "nbconvert_exporter": "python",
   "pygments_lexer": "ipython3",
   "version": "3.8.5"
  }
 },
 "nbformat": 4,
 "nbformat_minor": 4
}
